{
 "cells": [
  {
   "cell_type": "markdown",
   "metadata": {},
   "source": [
    "# FIT5196 Assessment 1: Text Processing  TASK -1\n",
    "#### Student Name: Vipul Jad\n",
    "#### Student ID: 29520762\n",
    "##### Date:02-sep-2018\n",
    "###### environment: Python 2.7.11 and Jupyter notebook Libraries used: \n",
    "###### -Json Packages\n",
    "###### -nltk - natural language toolkit (tokenizer, lemmatizer, stopwords, collocations and probabilities)\n",
    "###### -re (for regular expression, included in Anaconda Python 2.7) \n"
   ]
  },
  {
   "cell_type": "markdown",
   "metadata": {},
   "source": [
    "## Introduction:\n",
    "#### TEXT PROCESSING :\n",
    "- Text processing is focused on textual characters at the highest computing level. In other words, text processing is concerned with automatic transmission of information. Unlike an algorithm, text processing can be considered as sequentially administered macros which are simpler in nature, have filtering techniques and look into pattern-action expressions.\n",
    "\n",
    "- Text processing should not be confused with word processing. The key differences are text processing deals with text processing utilities rather than text editing utilities. Text processing is sequential in approach instead of random access and works directly at the presentation layer and indirectly on the application layer. Unlike word processing, text processing operates on raw data and is more independent from proprietary techniques. Text processing is done with the help of a shell command or a text editor.\n",
    "\n",
    "- In the computing world text processing is mostly used for creating news articles, books and magazines. Text processing also does not store the source documents in a specific processor format, and helps in opening doors to new add-ons and functionalities, such as translators and parsers. (SOURCE : Techopedia)"
   ]
  },
  {
   "cell_type": "markdown",
   "metadata": {},
   "source": [
    "# importing libraries\n",
    "#### regular expressions library\n",
    "#### import string library"
   ]
  },
  {
   "cell_type": "code",
   "execution_count": 3,
   "metadata": {},
   "outputs": [],
   "source": [
    "import re\n",
    "import string"
   ]
  },
  {
   "cell_type": "markdown",
   "metadata": {},
   "source": [
    "## Taking input from .dat file and storing into a string\n",
    "- opening the given file and saving it into a string variable\n"
   ]
  },
  {
   "cell_type": "code",
   "execution_count": 4,
   "metadata": {},
   "outputs": [],
   "source": [
    "db= open('29520762.dat','r')#opening dat file as read only\n",
    "x=db.read()\n",
    "x=x.rstrip()  #removing \\n form the string.\n"
   ]
  },
  {
   "cell_type": "markdown",
   "metadata": {},
   "source": [
    "# splitting the string on the basis of \"--------------------------\" to seprate each job from the string and store into a list and simultaniously finding the keys and values using regex\n",
    "- writing regex for finding each pirticular key and data using groups and non capturing groups.The key and data is stored in seprate groups within a list and all lists are stored within another parent list creating a array of lists with tokens as groups containing data\n",
    "- using the below mentioned regex which captures respective tokens using the start of line  and  till ':'  using pirticular keywords for each key for eg : there always be DEAD or dead in Job_Deadlines  key , using this process we can capture the required keys\n",
    "- to capture the data in the keys we use the lookahead operator combined with the non-greedy method of the regex, the lookahead operator looks ahead if any other key is present or end of the string, when regex matches any other key (by using a genral regular expression for all keys ) it stopps before the key and selects the required data  in a seprate group with the title in other group."
   ]
  },
  {
   "cell_type": "code",
   "execution_count": 5,
   "metadata": {},
   "outputs": [],
   "source": [
    "titles=[]\n",
    "tl=[]  #title\n",
    "idd=[] #id\n",
    "jr=[]  #job responsibility\n",
    "jd=[]  #job description\n",
    "jq=[]  #job qualification\n",
    "sal=[] #salary\n",
    "ap=[]  #application process\n",
    "sd=[]  #start date\n",
    "ad=[]  #application deadline\n",
    "ac=[]  #about company\n",
    "lo=[]  #location\n",
    "##splitting on \"------------------------------\"\n",
    "for job in x.split(\"------------------------------\"):  #for every job in given documents collecting keys and data into groups and appending into the pirticular list\n",
    "    idd.append(re.findall(r'(ID)\\s?:(.*)',job,re.IGNORECASE))\n",
    "    jr.append(re.findall(r'^(\\w*[_\\s]?(?:RESP|resp)\\s?\\w*\\s?):(\\s?.*?)(?=^\\w*[_\\s]?\\w*\\s?:)',job,re.MULTILINE|re.DOTALL))\n",
    "    jd.append(re.findall(r'^(\\w*[_\\s]?(?:DESC|desc)\\s?\\w*\\s?):(\\s?.*?)(?=^\\w*[_\\s]?\\w*\\s?:)',job,re.MULTILINE|re.DOTALL))\n",
    "    jq.append(re.findall(r'^(\\w*[_\\s]?(?:QUAL|qual)\\s?\\w*\\s?):(\\s?.*?)(?=^\\w*[_\\s]?\\w*\\s?:)',job,re.MULTILINE|re.DOTALL))\n",
    "    tl.append(re.findall(r'^(\\w*[_\\s]?(?:TITL|titl|TTL|TIT|ttl)\\s?\\w*\\s?):(\\s?.*?)(?=^\\w*[_\\s]?\\w*\\s?:)',job,re.MULTILINE|re.DOTALL))\n",
    "    sal.append(re.findall(r'^(\\w*[_\\s]?(?:SALARY|salary|sal|SAL|REMUNE|remune)\\s?\\w*\\s?):(\\s?.*?)(?=^-*|\\w*[_\\s]?\\w*\\s?:)',job,re.MULTILINE|re.DOTALL))\n",
    "    ap.append(re.findall(r'^(\\w*[_\\s]?(?:proc|PROC)\\s?\\w*\\s?):(\\s?.*?)(?=^-*|\\w*[_\\s]?\\w*\\s?:)',job,re.MULTILINE|re.DOTALL))\n",
    "    sd.append(re.findall(r'(^\\w*[_\\s]?(?:start|START)\\s?\\w*\\s?):(\\s?.*?)(?=^-*|\\w*[_\\s]?\\w*\\s?:)',job,re.MULTILINE|re.DOTALL))\n",
    "    ad.append(re.findall(r'(^\\w*[_\\s]?(?:DEAD|dead)\\s?\\w*\\s?):(\\s?.*?)(?=^-*|\\w*[_\\s]?\\w*\\s?:)',job,re.MULTILINE|re.DOTALL))\n",
    "    ac.append(re.findall(r'(^\\w*[.\\s]?(?:ABOUT|abou|info|INFO)[.\\s]?\\w*\\s?):(.*?|\\n?)(?=^\\w*[.\\s]?w*\\s?:)',job,re.MULTILINE|re.DOTALL))\n",
    "    lo.append(re.findall(r'^(\\w*[_\\s]?(?:loc|LOC)\\s?\\w*\\s?):(\\s?.*?)(?=^-*|\\w*[_\\s]?\\w*\\s?:)',job,re.MULTILINE|re.DOTALL))"
   ]
  },
  {
   "cell_type": "markdown",
   "metadata": {},
   "source": [
    "# writing the XML code"
   ]
  },
  {
   "cell_type": "markdown",
   "metadata": {},
   "source": [
    "## What is XML?\n",
    "##### XML is a software- and hardware-independent tool for storing and transporting data.\n",
    "##### XML stands for eXtensible Markup Language\n",
    "##### XML is a markup language much like HTML\n",
    "##### XML was designed to store and transport data\n",
    "##### XML was designed to be self-descriptive\n",
    "##### XML is a W3C Recommendation\n",
    "### PROCESS:\n",
    "- Now we have found each and every regex required for the sample now we can write an XML document by using the write() function in python io library, we will write each listing and continue appending till all jobs are appended . we can use for loop till the length of the listing . and writing the data within respective XML tags. \n",
    "we will need to replace '&','<','>' characters with '&amp;' , '&lt;' , '&gt;' respectively as these characters carry a special meaning in XML documents\n",
    "the steps are commented in the code below. "
   ]
  },
  {
   "cell_type": "markdown",
   "metadata": {},
   "source": [
    "- we start with opening a XML file with write permissions\n",
    "- initiate the XML tag manually \n",
    "- write the <listings> tab manually\n",
    "- with the for loop till of the list\n",
    "- with the sequece write the XML tags and corresponding values in it with checking if the values exist , else write \"NA\"\n",
    "- we need to replace the &,>,< characters with'&amp;','&lt;','&gt;'respectively as they carry a special meaning in xml documents\n",
    "- close the xml tags respectively\n",
    "- close the file"
   ]
  },
  {
   "cell_type": "code",
   "execution_count": null,
   "metadata": {},
   "outputs": [],
   "source": [
    "##writing XML file\n",
    "xm=open(\"29520762.xml\",\"w\")  #opening a xml file with write only\n",
    "xm.write(\"<?xml version=\\\"1.0\\\" encoding=\\\"UTF-8\\\"?>\\n\")\n",
    "xm.write(\"<LISTINGS>\\n\")  #writing each tag manually \n",
    "i=0\n",
    "for i in range(0,len(idd)-1):           # writing each xml line into the file using loop\n",
    "    if idd[i]:\n",
    "        xm.write(\"<LISTING id=\\\"\"+idd[i][0][1]+\"\\\">\\n\")\n",
    "        xm.write(\"<TITLE>\\n\")\n",
    "        if tl[i]:                       #check if present\n",
    "            f=re.sub(r\"&\",\"&amp;\",tl[i][0][1])             ### replacing the &,>,< with &amp; , &lt; , &gt;\n",
    "            f=re.sub(r\"<\",\"&lt\",f)\n",
    "            f=re.sub(r\">\",\"&gt\",f)\n",
    "            xm.write(f+\"\\n\")\n",
    "        else:\n",
    "            xm.write(\"NA\\n\")\n",
    "        xm.write(\"</TITLE>\\n\")\n",
    "    #location space\n",
    "        xm.write(\"<LOCATION>\\n\")\n",
    "        if lo[i]:                    #check if present\n",
    "            f=re.sub(r\"&\",\"&amp;\",lo[i][0][1])\n",
    "            f=re.sub(r\"<\",\"&lt\",f)                         ### replacing the &,>,< with &amp; , &lt; , &gt;\n",
    "            f=re.sub(r\">\",\"&gt\",f)\n",
    "            xm.write(f+\"\\n\")\n",
    "        else:\n",
    "            xm.write(\"NA\\n\")\n",
    "        xm.write(\"</LOCATION>\\n\")\n",
    "    #job description\n",
    "\n",
    "    #xm.write(\"<DESCRIPTION>\\n\")\n",
    "        xm.write(\"<JOB_DESCRIPTIONS>\\n\")\n",
    "        if jd[i]:                          #check if present\n",
    "            for line in jd[i][0][1].split(\".\"):   #SPLITTING ON \".\"\n",
    "                if len(line)>0:\n",
    "                    xm.write(\"<DESCRIPTION>\\n\")\n",
    "                    line=re.sub(r\"&\",\"&amp;\",line)                 ### replacing the &,>,< with &amp; , &lt; , &gt;\n",
    "                    f=re.sub(r\"<\",\"&lt;\",line)\n",
    "                    f=re.sub(r\">\",\"&gt;\",f)\n",
    "                    xm.write(f+\"\\n\")\n",
    "                    xm.write(\"</DESCRIPTION>\\n\")\n",
    "        else:\n",
    "            xm.write(\"NA\\n\")\n",
    "        xm.write(\"</JOB_DESCRIPTIONS>\\n\")\n",
    "        #job responsibilities\n",
    "        xm.write(\"<JOB_RESPONSIBILITIES>\\n\")\n",
    "        if jr[i]:                         #check if present\n",
    "            for line in jr[i][0][1].split(\"-\"):       #SPLITTING ON \"-\"\n",
    "                if len(line)>0 :\n",
    "                    xm.write(\"<RESPONSIBILITY>\\n\")\n",
    "                    f=re.sub(r\"&\",\"&amp;\",line)                       ### replacing the &,>,< with &amp; , &lt; , &gt;\n",
    "                    f=re.sub(r\"<\",\"&lt;\",f)\n",
    "                    f=re.sub(r\">\",\"&gt;\",f)\n",
    "                    xm.write(f+\"\\n\")\n",
    "                    xm.write(\"</RESPONSIBILITY>\\n\")\n",
    "        else:\n",
    "            xm.write(\"NA\\n\")\n",
    "        xm.write(\"</JOB_RESPONSIBILITIES>\\n\")\n",
    "        xm.write(\"<REQUIRED_QUALIFICATIONS>\\n\")\n",
    "        if jq[i]:                        #check if present\n",
    "            for line in jq[i][0][1].split(\"-\"):         #SPLITTING ON \".\"\n",
    "                if len(line)>0:\n",
    "                    xm.write(\"<QUALIFICATION>\\n\")\n",
    "                    f=re.sub(r\"&\",\"&amp;\",line)\n",
    "                    f=re.sub(r\"<\",\"&lt;\",f)                        ### replacing the &,>,< with &amp; , &lt; , &gt;\n",
    "                    f=re.sub(r\">\",\"&gt;\",f)\n",
    "                    xm.write(f+\"\\n\")\n",
    "                    xm.write(\"</QUALIFICATION>\\n\")\n",
    "        else:\n",
    "            xm.write(\"NA\\n\")\n",
    "        xm.write(\"</REQUIRED_QUALIFICATIONS>\\n\")\n",
    "        xm.write(\"<SALARY>\\n\")\n",
    "        if sal[i]:\n",
    "            f=re.sub(r\"&\",\"&amp;\",sal[i][0][1])\n",
    "            f=re.sub(r\"<\",\"&lt;\",f)                         ### replacing the &,>,< with &amp; , &lt; , &gt;\n",
    "            f=re.sub(r\">\",\"&gt;\",f)\n",
    "            xm.write(f+\"\\n\")\n",
    "        else:\n",
    "            xm.write(\"NA\\n\")\n",
    "        xm.write(\"</SALARY>\\n\")\n",
    "        xm.write(\"<APPLICATION_PROCEDURE>\\n\")\n",
    "        if ap[i]:\n",
    "            f=re.sub(r\"&\",\"&amp;\",ap[i][0][1])\n",
    "            f=re.sub(r\"<\",\"&lt;\",f)                          ### replacing the &,>,< with &amp; , &lt; , &gt;\n",
    "            f=re.sub(r\">\",\"&gt;\",f)\n",
    "            xm.write(f+\"\\n\")\n",
    "        else:\n",
    "            xm.write(\"NA\\n\")\n",
    "        xm.write(\"</APPLICATION_PROCEDURE>\\n\")\n",
    "\n",
    "        xm.write(\"<APPLICATION_DEADLINE>\\n\")\n",
    "        if ad[i]:\n",
    "            f=re.sub(r\"&\",\"&amp;\",ad[i][0][1])\n",
    "            f=re.sub(r\"<\",\"&lt;\",f)\n",
    "            f=re.sub(r\">\",\"&gt;\",f)                             ### replacing the &,>,< with &amp; , &lt; , &gt;\n",
    "            xm.write(f+\"\\n\")\n",
    "        else:\n",
    "            xm.write(\"NA\")\n",
    "        xm.write(\"</APPLICATION_DEADLINE>\\n\")\n",
    "        xm.write(\"<START_DATE>\\n\")\n",
    "        if sd[i]:\n",
    "            f=re.sub(r\"&\",\"&amp;\",sd[i][0][1])\n",
    "            f=re.sub(r\"<\",\"&lt;\",f)                         ### replacing the &,>,< with &amp; , &lt; , &gt;\n",
    "            f=re.sub(r\">\",\"&gt;\",f)\n",
    "            xm.write(f)\n",
    "        else:\n",
    "            xm.write(\"NA\")\n",
    "        xm.write(\"</START_DATE>\\n\")\n",
    "        xm.write(\"<ABOUT_COMPANY>\\n\")\n",
    "        if ac[i]:\n",
    "            f=re.sub(r\"&\",\"&amp;\",ac[i][0][1])\n",
    "            f=re.sub(r\"<\",\"&lt;\",f)                         ### replacing the &,>,< with &amp; , &lt; , &gt;\n",
    "            f=re.sub(r\">\",\"&gt;\",f)\n",
    "            xm.write(f+\"\\n\")\n",
    "        else:\n",
    "            xm.write(\"NA\")\n",
    "        xm.write(\"</ABOUT_COMPANY>\\n\")\n",
    "\n",
    "        xm.write(\"</LISTING>\\n\")\n",
    "\n",
    "xm.write(\"</LISTINGS>\\n\")\n",
    "xm.close()"
   ]
  },
  {
   "cell_type": "markdown",
   "metadata": {},
   "source": [
    "## writing jason file :"
   ]
  },
  {
   "cell_type": "markdown",
   "metadata": {},
   "source": [
    "### WHAT IS JSON:\n",
    "##### JSON: JavaScript Object Notation.\n",
    "##### JSON is a syntax for storing and exchanging data.\n",
    "##### JSON is text, written with JavaScript object notation.\n",
    "##### JSON stands for JavaScript Object Notation\n",
    "##### JSON is a lightweight data-interchange format\n",
    "##### JSON is \"self-describing\" and easy to understand\n",
    "##### JSON is language independent *"
   ]
  },
  {
   "cell_type": "markdown",
   "metadata": {},
   "source": [
    "## PROCESS: \n",
    "### To create JSON file we first need to create a dictionary with the nested keys and values just as shown in sample jason file with the created dictionary into a loop till the length of the jobs list, keep dumping and appending the string into a string and then write it into a file . which will create a jason file \n"
   ]
  },
  {
   "cell_type": "markdown",
   "metadata": {},
   "source": [
    "# -we start with opening a json file with write permissions \n",
    "- manually initiate listings tag.\n",
    "- creating a function to check if the value exists\n",
    "- with a for loop and defining a dictionary within the loop with the values from the list acquired in first step\n",
    "- dump the dictionary into a string and add a \" ,\"  if next list is available\n",
    "- write the values of the string into the file\n",
    "- manually close the listings by write() function\n",
    "- close the file\n"
   ]
  },
  {
   "cell_type": "code",
   "execution_count": null,
   "metadata": {},
   "outputs": [],
   "source": [
    "#### writing json file\n",
    "import json           #import json library\n",
    "js=open(\"29520762.json\",\"w\")                   #open json file as write only\n",
    "js.write(\"{\\\"listings\\\":[\")\n",
    "i=0\n",
    "l=''\n",
    "\n",
    "\n",
    "def chk_write(dat):                              #check if data is present\n",
    "    if dat:\n",
    "        return(dat[0][1].rstrip())\n",
    "    else:\n",
    "        return(\"NA\")\n",
    "listings={}                              #empty dictionary\n",
    "#js.write(\"{\\n\")\n",
    "for i in range(0,len(idd)-1):              #dumping each listing using dictionary in for loop\n",
    "    #jor=(chk_write(jr[i]))\n",
    "\n",
    "    listings=  {\"listing\":[{\"_id\":chk_write(idd[i]),\n",
    "                 \"title\":chk_write(tl[i]),\n",
    "                 \"location\":chk_write(lo[i]),\n",
    "                 \"job_desciptions\":{\n",
    "                         \"descriptions\":[m for m in chk_write(jd[i]).split(\".\")]      #CHECKING AND SPLITTING ON \".\"\n",
    "                 },\n",
    "                 \"job_responsibilities\":{\n",
    "                     \"responsibility\":[m for m in chk_write(jr[i]).split(\"-\")]          #CHECKING AND SPLITTING ON \"-\"\n",
    "                 },\n",
    "                 \"required_qualifications\":{\n",
    "                     \"qualifications\":[m for m in chk_write(jq[i]).split(\"-\")]         #CHECKING AND SPLITTING ON \"-\"\n",
    "                 },\n",
    "                 \"salary\":chk_write(sal[i]),\n",
    "                 \"application_procedure\":chk_write(ap[i]),\n",
    "                 \"start_date\":chk_write(sd[i]),\n",
    "                 \"application_deadline\":chk_write(ad[i]),\n",
    "                 \"about_company\":chk_write(ac[i])\n",
    "    }]\n",
    "    }\n",
    "    l+=json.dumps(listings)                          #appending listings\n",
    "    if idd[i+1]:\n",
    "        l+=\",\"                        #ADDING A \",\" IF NEXT LIST EXISTS\n",
    "    \n",
    "\n",
    "\n",
    "js.write(l)\n",
    "js.write(\"]}\")\n",
    "js.close()\n"
   ]
  },
  {
   "cell_type": "code",
   "execution_count": null,
   "metadata": {},
   "outputs": [],
   "source": []
  }
 ],
 "metadata": {
  "kernelspec": {
   "display_name": "Python 3",
   "language": "python",
   "name": "python3"
  },
  "language_info": {
   "codemirror_mode": {
    "name": "ipython",
    "version": 3
   },
   "file_extension": ".py",
   "mimetype": "text/x-python",
   "name": "python",
   "nbconvert_exporter": "python",
   "pygments_lexer": "ipython3",
   "version": "3.7.3"
  }
 },
 "nbformat": 4,
 "nbformat_minor": 2
}
